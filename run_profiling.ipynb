{
 "cells": [
  {
   "cell_type": "code",
   "execution_count": 9,
   "id": "1",
   "metadata": {},
   "outputs": [
    {
     "name": "stdin",
     "output_type": "stream",
     "text": [
      "📝 Description of this run:  \n",
      "🔧 What did you change?  \n",
      "💡 What do you expect to happen?  \n"
     ]
    },
    {
     "name": "stdout",
     "output_type": "stream",
     "text": [
      "push to remote\n",
      "building file list ... done\n",
      "\n",
      "sent 98 bytes  received 20 bytes  236.00 bytes/sec\n",
      "total size is 11041  speedup is 93.57\n",
      "SLURM script written to 'submit_job.sh'\n",
      "building file list ... done\n",
      "submit_job.sh\n",
      "\n",
      "sent 129 bytes  received 48 bytes  118.00 bytes/sec\n",
      "total size is 424  speedup is 2.40\n",
      "compile & run\n",
      "CompletedProcess(args='ssh nt -t \"sbatch /fred/oz002/jsmallwo/cuda_beamformer//submit_job.sh\"', returncode=0, stdout='Submitted batch job 66867700\\n', stderr='Connection to nt.swin.edu.au closed.\\n')\n",
      "SLURM output: Submitted batch job 66867700\n",
      "Waiting for job 66867700...\n",
      "Waiting for job 66867700...\n",
      "Job 66867700 is done!\n",
      "pull back\n",
      "receiving file list ... done\n",
      "\n",
      "sent 16 bytes  received 93 bytes  72.67 bytes/sec\n",
      "total size is 20309  speedup is 186.32\n",
      "🏃 View run youthful-grouse-151 at: http://localhost:5000/#/experiments/722449737966634716/runs/4a35899172e04ac087be9c8d86daa077\n",
      "🧪 View experiment at: http://localhost:5000/#/experiments/722449737966634716\n",
      "Traceback (most recent call last):\n",
      "  File \u001b[35m\"/Users/jsmallwood/Documents/projects/cuda-beamformer/profile_with_mlflow.py\"\u001b[0m, line \u001b[35m163\u001b[0m, in \u001b[35m<module>\u001b[0m\n",
      "    \u001b[31mmlflow.log_artifact\u001b[0m\u001b[1;31m(f\"{PROFILE_OUTPUT}.csv\", artifact_path=f\"parsed_page\")\u001b[0m\n",
      "    \u001b[31m~~~~~~~~~~~~~~~~~~~\u001b[0m\u001b[1;31m^^^^^^^^^^^^^^^^^^^^^^^^^^^^^^^^^^^^^^^^^^^^^^^^^^^^^^^\u001b[0m\n",
      "  File \u001b[35m\"/Users/jsmallwood/Documents/projects/cuda-beamformer/.venv/lib/python3.13/site-packages/mlflow/tracking/fluent.py\"\u001b[0m, line \u001b[35m1179\u001b[0m, in \u001b[35mlog_artifact\u001b[0m\n",
      "    \u001b[31mMlflowClient().log_artifact\u001b[0m\u001b[1;31m(run_id, local_path, artifact_path)\u001b[0m\n",
      "    \u001b[31m~~~~~~~~~~~~~~~~~~~~~~~~~~~\u001b[0m\u001b[1;31m^^^^^^^^^^^^^^^^^^^^^^^^^^^^^^^^^^^\u001b[0m\n",
      "  File \u001b[35m\"/Users/jsmallwood/Documents/projects/cuda-beamformer/.venv/lib/python3.13/site-packages/mlflow/tracking/client.py\"\u001b[0m, line \u001b[35m2374\u001b[0m, in \u001b[35mlog_artifact\u001b[0m\n",
      "    \u001b[31mself._tracking_client.log_artifact\u001b[0m\u001b[1;31m(run_id, local_path, artifact_path)\u001b[0m\n",
      "    \u001b[31m~~~~~~~~~~~~~~~~~~~~~~~~~~~~~~~~~~\u001b[0m\u001b[1;31m^^^^^^^^^^^^^^^^^^^^^^^^^^^^^^^^^^^\u001b[0m\n",
      "  File \u001b[35m\"/Users/jsmallwood/Documents/projects/cuda-beamformer/.venv/lib/python3.13/site-packages/mlflow/tracking/_tracking_service/client.py\"\u001b[0m, line \u001b[35m926\u001b[0m, in \u001b[35mlog_artifact\u001b[0m\n",
      "    \u001b[31martifact_repo.log_artifact\u001b[0m\u001b[1;31m(local_path, artifact_path)\u001b[0m\n",
      "    \u001b[31m~~~~~~~~~~~~~~~~~~~~~~~~~~\u001b[0m\u001b[1;31m^^^^^^^^^^^^^^^^^^^^^^^^^^^\u001b[0m\n",
      "  File \u001b[35m\"/Users/jsmallwood/Documents/projects/cuda-beamformer/.venv/lib/python3.13/site-packages/mlflow/store/artifact/http_artifact_repo.py\"\u001b[0m, line \u001b[35m62\u001b[0m, in \u001b[35mlog_artifact\u001b[0m\n",
      "    with \u001b[31mopen\u001b[0m\u001b[1;31m(local_file, \"rb\")\u001b[0m as f:\n",
      "         \u001b[31m~~~~\u001b[0m\u001b[1;31m^^^^^^^^^^^^^^^^^^\u001b[0m\n",
      "\u001b[1;35mFileNotFoundError\u001b[0m: \u001b[35m[Errno 2] No such file or directory: 'profile.csv'\u001b[0m\n"
     ]
    }
   ],
   "source": [
    "\n",
    "description = input(\"📝 Description of this run: \")\n",
    "change = input(\"🔧 What did you change? \")\n",
    "hypothesis = input(\"💡 What do you expect to happen? \")\n",
    "\n",
    "!python profile_with_mlflow.py \"{description}\" \"{change}\" \"{hypothesis}\" "
   ]
  },
  {
   "cell_type": "code",
   "execution_count": null,
   "id": "2",
   "metadata": {},
   "outputs": [],
   "source": [
    "\n",
    "\n",
    "\n"
   ]
  }
 ],
 "metadata": {
  "kernelspec": {
   "display_name": "Python 3 (ipykernel)",
   "language": "python",
   "name": "python3"
  },
  "language_info": {
   "codemirror_mode": {
    "name": "ipython",
    "version": 3
   },
   "file_extension": ".py",
   "mimetype": "text/x-python",
   "name": "python",
   "nbconvert_exporter": "python",
   "pygments_lexer": "ipython3",
   "version": "3.13.2"
  }
 },
 "nbformat": 4,
 "nbformat_minor": 5
}
