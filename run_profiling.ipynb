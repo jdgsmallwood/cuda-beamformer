{
 "cells": [
  {
   "cell_type": "code",
   "execution_count": null,
   "id": "0",
   "metadata": {},
   "outputs": [],
   "source": []
  },
  {
   "cell_type": "code",
   "execution_count": null,
   "id": "1",
   "metadata": {},
   "outputs": [],
   "source": [
    "NT_SESSION = \"gina2\"\n",
    "\n",
    "description = input(\"📝 Description of this run: \")\n",
    "change = input(\"🔧 What did you change? \")\n",
    "hypothesis = input(\"💡 What do you expect to happen? \")\n",
    "\n",
    "!python profile_with_mlflow.py \"{description}\" \"{change}\" \"{hypothesis}\" \"{NT_SESSION}\""
   ]
  },
  {
   "cell_type": "code",
   "execution_count": null,
   "id": "2",
   "metadata": {},
   "outputs": [],
   "source": []
  }
 ],
 "metadata": {
  "kernelspec": {
   "display_name": "Python 3 (ipykernel)",
   "language": "python",
   "name": "python3"
  },
  "language_info": {
   "codemirror_mode": {
    "name": "ipython",
    "version": 3
   },
   "file_extension": ".py",
   "mimetype": "text/x-python",
   "name": "python",
   "nbconvert_exporter": "python",
   "pygments_lexer": "ipython3",
   "version": "3.10.12"
  }
 },
 "nbformat": 4,
 "nbformat_minor": 5
}
