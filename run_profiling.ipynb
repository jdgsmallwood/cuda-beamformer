{
 "cells": [
  {
   "cell_type": "code",
   "execution_count": 60,
   "id": "1",
   "metadata": {},
   "outputs": [
    {
     "name": "stdin",
     "output_type": "stream",
     "text": [
      "📝 Description of this run:  try align 16 again\n",
      "🔧 What did you change?  \n",
      "💡 What do you expect to happen?  \n"
     ]
    },
    {
     "name": "stdout",
     "output_type": "stream",
     "text": [
      "\u001b[32m2025-04-17 17:30:09.468\u001b[0m | \u001b[1mINFO    \u001b[0m | \u001b[36m__main__\u001b[0m:\u001b[36m<module>\u001b[0m:\u001b[36m53\u001b[0m - \u001b[1mInitiating push to remote for CUDA file.\u001b[0m\n",
      "sending incremental file list\n",
      "beamformer_for_loop.cu\n",
      "\n",
      "sent 836 bytes  received 131 bytes  644.67 bytes/sec\n",
      "total size is 11,046  speedup is 11.42\n",
      "\u001b[32m2025-04-17 17:30:10.301\u001b[0m | \u001b[1mINFO    \u001b[0m | \u001b[36m__main__\u001b[0m:\u001b[36m<module>\u001b[0m:\u001b[36m109\u001b[0m - \u001b[1mSlurm script written to 'submit_job.sh'\u001b[0m\n",
      "\u001b[32m2025-04-17 17:30:10.301\u001b[0m | \u001b[1mINFO    \u001b[0m | \u001b[36m__main__\u001b[0m:\u001b[36m<module>\u001b[0m:\u001b[36m113\u001b[0m - \u001b[1mSyncing slurm script to remote...\u001b[0m\n",
      "sending incremental file list\n",
      "submit_job.sh\n",
      "\n",
      "sent 417 bytes  received 41 bytes  916.00 bytes/sec\n",
      "total size is 536  speedup is 1.17\n",
      "\u001b[32m2025-04-17 17:30:10.942\u001b[0m | \u001b[1mINFO    \u001b[0m | \u001b[36m__main__\u001b[0m:\u001b[36m<module>\u001b[0m:\u001b[36m118\u001b[0m - \u001b[1mSubmitting slurm job...\u001b[0m\n",
      "Submitted batch job 66914892\n",
      "Connection to nt.swin.edu.au closed.\n",
      "\u001b[32m2025-04-17 17:31:25.871\u001b[0m | \u001b[1mINFO    \u001b[0m | \u001b[36m__main__\u001b[0m:\u001b[36m<module>\u001b[0m:\u001b[36m126\u001b[0m - \u001b[1mPulling back results...\u001b[0m\n",
      "receiving incremental file list\n",
      "profile_20250417_1730.csv\n",
      "\n",
      "sent 43 bytes  received 4,336 bytes  2,919.33 bytes/sec\n",
      "total size is 25,609  speedup is 5.85\n",
      "receiving incremental file list\n",
      "profile_20250417_1730.ncu-rep\n",
      "\n",
      "sent 43 bytes  received 176,610 bytes  117,768.67 bytes/sec\n",
      "total size is 787,239  speedup is 4.46\n",
      "receiving incremental file list\n",
      "profile_log_20250417_1730.txt\n",
      "\n",
      "sent 43 bytes  received 1,361 bytes  2,808.00 bytes/sec\n",
      "total size is 3,404  speedup is 2.42\n",
      "\u001b[32m2025-04-17 17:31:27.690\u001b[0m | \u001b[1mINFO    \u001b[0m | \u001b[36m__main__\u001b[0m:\u001b[36m<module>\u001b[0m:\u001b[36m193\u001b[0m - \u001b[1mStarting MLFlow run...\u001b[0m\n",
      "\u001b[32m2025-04-17 17:31:27.730\u001b[0m | \u001b[1mINFO    \u001b[0m | \u001b[36m__main__\u001b[0m:\u001b[36m<module>\u001b[0m:\u001b[36m210\u001b[0m - \u001b[1mLogging parameters...\u001b[0m\n",
      "\u001b[32m2025-04-17 17:31:27.736\u001b[0m | \u001b[1mINFO    \u001b[0m | \u001b[36m__main__\u001b[0m:\u001b[36m<module>\u001b[0m:\u001b[36m214\u001b[0m - \u001b[1mLogging metrics...\u001b[0m\n",
      "\u001b[32m2025-04-17 17:31:27.755\u001b[0m | \u001b[1mINFO    \u001b[0m | \u001b[36m__main__\u001b[0m:\u001b[36m<module>\u001b[0m:\u001b[36m224\u001b[0m - \u001b[1m✅ MLflow run completed: 5dbd7a5c3e0b42e2812f20704a99e49a\u001b[0m\n",
      "🏃 View run clean-dog-977 at: http://localhost:5000/#/experiments/631611066622488177/runs/5dbd7a5c3e0b42e2812f20704a99e49a\n",
      "🧪 View experiment at: http://localhost:5000/#/experiments/631611066622488177\n"
     ]
    }
   ],
   "source": [
    "\n",
    "description = input(\"📝 Description of this run: \")\n",
    "change = input(\"🔧 What did you change? \")\n",
    "hypothesis = input(\"💡 What do you expect to happen? \")\n",
    "\n",
    "!python profile_with_mlflow.py \"{description}\" \"{change}\" \"{hypothesis}\" "
   ]
  },
  {
   "cell_type": "code",
   "execution_count": null,
   "id": "2",
   "metadata": {},
   "outputs": [],
   "source": [
    "\n",
    "\n",
    "\n"
   ]
  }
 ],
 "metadata": {
  "kernelspec": {
   "display_name": "Python 3 (ipykernel)",
   "language": "python",
   "name": "python3"
  },
  "language_info": {
   "codemirror_mode": {
    "name": "ipython",
    "version": 3
   },
   "file_extension": ".py",
   "mimetype": "text/x-python",
   "name": "python",
   "nbconvert_exporter": "python",
   "pygments_lexer": "ipython3",
   "version": "3.10.12"
  }
 },
 "nbformat": 4,
 "nbformat_minor": 5
}
